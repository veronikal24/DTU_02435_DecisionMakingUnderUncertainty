{
 "cells": [
  {
   "cell_type": "code",
   "execution_count": 16,
   "id": "7e006f07-42d1-4255-8803-2bf862cef4fc",
   "metadata": {},
   "outputs": [
    {
     "name": "stdout",
     "output_type": "stream",
     "text": [
      "Average cost over 10 experiments (dummy policy): 624.78\n"
     ]
    }
   ],
   "source": [
    "import numpy as np\n",
    "from data import get_fixed_data\n",
    "from PriceProcess import price_model\n",
    "from WindProcess import wind_model\n",
    "\n",
    "def simulate_experiment(policy, E=10):\n",
    "    \"\"\"\n",
    "    Simulates E independent experiments to evaluate a given decision-making policy.\n",
    "    :param policy: A function defining the decision-making policy.\n",
    "    :param E: Number of independent experiments (days).\n",
    "    :return: Average cost over E experiments.\n",
    "    \"\"\"\n",
    "    # Retrieve fixed parameters from the data file\n",
    "    data = get_fixed_data()\n",
    "    T = data['num_timeslots']\n",
    "    D = data['demand_schedule']\n",
    "    C = data['hydrogen_capacity']\n",
    "    P2H = data['p2h_max_rate']\n",
    "    H2P = data['h2p_max_rate']\n",
    "    R_p2h = data['conversion_p2h']\n",
    "    R_h2p = data['conversion_h2p']\n",
    "    C_elzr = data['electrolyzer_cost']\n",
    "    \n",
    "    total_costs = []\n",
    "    \n",
    "    for _ in range(E):\n",
    "        # Initialize wind power and electricity price\n",
    "        wind_power = np.zeros(T)\n",
    "        price = np.zeros(T)\n",
    "        \n",
    "        wind_power[0] = data['target_mean_wind']\n",
    "        price[0] = data['mean_price']\n",
    "        \n",
    "        if T > 1:\n",
    "            wind_power[1] = wind_power[0]\n",
    "            price[1] = price[0]\n",
    "        \n",
    "        for t in range(2, T):\n",
    "            wind_power[t] = wind_model(wind_power[t-1], wind_power[t-2], data)\n",
    "            price[t] = price_model(price[t-1], price[t-2], wind_power[t], data)\n",
    "        \n",
    "        # Initialize system state\n",
    "        hydrogen_storage = np.zeros(T+1)  # Hydrogen storage level\n",
    "        grid_power = np.zeros(T)  # Power taken from the grid\n",
    "        p2h = np.zeros(T)  # Power-to-Hydrogen\n",
    "        h2p = np.zeros(T)  # Hydrogen-to-Power\n",
    "        electrolyzer_status = np.zeros(T, dtype=int)  # Whether the electrolyzer is on\n",
    "        \n",
    "        total_cost = 0\n",
    "        \n",
    "        # Simulate the time steps\n",
    "        for t in range(T):\n",
    "            electrolyzer_status[t], p2h[t], h2p[t], grid_power[t] = policy(t, hydrogen_storage[t], wind_power[t], price[t], data)\n",
    "            \n",
    "            # Ensure hydrogen storage respects bounds\n",
    "            hydrogen_storage[t+1] = min(C, max(0, hydrogen_storage[t] + R_p2h * p2h[t] - h2p[t] / R_h2p))\n",
    "            \n",
    "            # Compute the cost at this time step\n",
    "            total_cost += price[t] * grid_power[t] + C_elzr * electrolyzer_status[t]\n",
    "        \n",
    "        total_costs.append(total_cost)\n",
    "    \n",
    "    return np.mean(total_costs)\n",
    "\n",
    "def dummy_policy(t, h_level, wind, price, data):\n",
    "    \"\"\"\n",
    "    Dummy policy: Never use the electrolyzer.\n",
    "    :return: (E_ON, p2h, h2p, grid_power)\n",
    "    \"\"\"\n",
    "    D = data['demand_schedule'][t]\n",
    "    return 0, 0, 0, max(0, D - wind)  # No hydrogen conversion, only use grid if necessary\n",
    "\n",
    "# Run evaluation on dummy policy\n",
    "E = 10  # Number of experiments (days)\n",
    "avg_cost = simulate_experiment(dummy_policy, E)\n",
    "print(f\"Average cost over {E} experiments (dummy policy): {avg_cost:.2f}\")\n"
   ]
  },
  {
   "cell_type": "code",
   "execution_count": null,
   "id": "82116ef7-bca5-400d-9e93-b38028d90f26",
   "metadata": {},
   "outputs": [],
   "source": []
  }
 ],
 "metadata": {
  "kernelspec": {
   "display_name": "Python [conda env:base] *",
   "language": "python",
   "name": "conda-base-py"
  },
  "language_info": {
   "codemirror_mode": {
    "name": "ipython",
    "version": 3
   },
   "file_extension": ".py",
   "mimetype": "text/x-python",
   "name": "python",
   "nbconvert_exporter": "python",
   "pygments_lexer": "ipython3",
   "version": "3.12.7"
  }
 },
 "nbformat": 4,
 "nbformat_minor": 5
}
